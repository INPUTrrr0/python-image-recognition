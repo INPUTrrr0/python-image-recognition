{
 "cells": [
  {
   "cell_type": "code",
   "execution_count": null,
   "metadata": {},
   "outputs": [],
   "source": [
    "import os\n",
    "from PIL import Image\n",
    "import numpy as np\n",
    "import matplotlib.pyplot as plt\n",
    "plt.rcParams['font.sans-serif']=['SimHei']\n",
    "import tensorflow as tf\n",
    "from tensorflow import keras\n",
    "from sklearn.model_selection import train_test_split "
   ]
  },
  {
   "cell_type": "code",
   "execution_count": null,
   "metadata": {},
   "outputs": [],
   "source": [
    "filedir=''\n",
    "os.listdir(filedir)\n",
    "\n",
    "file_list=[]\n",
    "for root,dirs,files in os.walk(filedir):\n",
    "    for file in files:\n",
    "        if os.path.splitext(file)[1]==\".jpg\":\n",
    "            file_list1.append(os.path.join(root,file))\n",
    "            \n",
    "for filename in file_list1:\n",
    "    try:\n",
    "        im=Iamge.open(filename)\n",
    "        new_im = im.resize((128,128))\n",
    "        new_im.save('D:'+filename[12:-4]+'.jpg')\n",
    "        print('image'+filename[12:-4]+'.jpg'+'pixel converted')\n",
    "    except OSError as e:\n",
    "        print(e.args)\n",
    "        \n",
    "filedir='D'\n",
    "ps.listdir(filedir)\n",
    "\n",
    "file_list_1=[]\n",
    "for root,dirs,files in os.walk(filedir):\n",
    "    for file in files:\n",
    "        if os.path.splitext(file)[1]==\".jpg\":\n",
    "            file_list_1.append(os.path.join(root,file))\n",
    "            \n",
    "len(file_list_1)\n"
   ]
  },
  {
   "cell_type": "code",
   "execution_count": null,
   "metadata": {},
   "outputs": [],
   "source": [
    "M=[]\n",
    "for filename in file_list_1:\n",
    "    im = Image.open(filename)\n",
    "    width,height = im.size\n",
    "    im_L = im.convert(\"L\")\n",
    "    Core = im_L.getdata()\n",
    "    arr1 = np.array(Core,dtype='float32')/255.0\n",
    "    arr1.shape\n",
    "    list_img=arr1.tolist()\n",
    "    M.extend(list_img)\n",
    "    \n",
    "    X=np.array(M).reshape(len(file_list_1),width,height)\n",
    "    X.shape\n",
    "    \n",
    "    class_name=['car','person']\n",
    "    \n",
    "    dict_label = {0:'car',1:'person'}\n",
    "    print(dict_label[0])\n",
    "    print(dict_label[1])\n",
    "    \n",
    "    label = [0]*len(file_list_1)+[1]*len(file_list_2)\n",
    "    y=np.array(label)\n",
    "    \n",
    "    train_images, test_images, train_labels, test_labels = train_test_split(X,y,test_size=0.2,random_state=0)\n",
    "    \n",
    "    plt.figure()\n",
    "    plt.imshow(train_images[10])\n",
    "    plt.colorbar()\n",
    "    plt.grid(False)\n",
    "    \n",
    "    plt.figure(figsize=(10,10))\n",
    "    for i in range(25):\n",
    "        plt.subplot(5,5,i+1)\n",
    "        plt.xticks([])\n",
    "        plt.yticks([])\n",
    "        plt.imshow(train_images[i],cmap=plt.cm.binary)\n",
    "        plt.xlabel(class_names[train_labels[i]])\n",
    "        "
   ]
  },
  {
   "cell_type": "code",
   "execution_count": null,
   "metadata": {},
   "outputs": [],
   "source": [
    "model = keras.Sequential([\n",
    "        keras.layers.Flatten(input_shape=(128,128)),\n",
    "        keras.layers.Dense(128,activation=tf.nn.relu),\n",
    "        keras.layers.Dense(2,activation=tf.nn.softmax)\n",
    "    ])\n",
    "    \n",
    "    model.compile(optimizer=tf.train.AdamOptimizer(),\n",
    "                  loss='sparse_categorical_crossentropy',\n",
    "                 metrics=['accuracy'])\n",
    "    \n",
    "    model.fit(trian_images,train_labels,epochs=5)\n",
    "    test_loss, test_acc = model.evaluate(test_images, testlabels)\n",
    "    print('Test accuracy',test_acc)"
   ]
  },
  {
   "cell_type": "code",
   "execution_count": null,
   "metadata": {},
   "outputs": [],
   "source": [
    "predictions=model.predict(test_images)\n",
    "    predictions[0]\n",
    "    np.argmax(predictions[0])\n",
    "    dict_label[np.argmax(predictions[0])]\n",
    "    \n",
    "    predicgtions=model.predict(test_images)\n",
    "    predictions[0]\n",
    "    np.argmax(predictions[0])\n",
    "    dict_label[np.argmax(predictions[0])]\n",
    "    "
   ]
  }
 ],
 "metadata": {
  "kernelspec": {
   "display_name": "Python 3",
   "language": "python",
   "name": "python3"
  },
  "language_info": {
   "codemirror_mode": {
    "name": "ipython",
    "version": 3
   },
   "file_extension": ".py",
   "mimetype": "text/x-python",
   "name": "python",
   "nbconvert_exporter": "python",
   "pygments_lexer": "ipython3",
   "version": "3.7.3"
  }
 },
 "nbformat": 4,
 "nbformat_minor": 2
}
